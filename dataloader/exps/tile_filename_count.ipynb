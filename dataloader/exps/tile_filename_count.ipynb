{
 "cells": [
  {
   "cell_type": "code",
   "execution_count": 15,
   "metadata": {},
   "outputs": [],
   "source": [
    "import pandas as pd\n",
    "import os\n",
    "from PIL import Image\n",
    "from tqdm.notebook import tqdm"
   ]
  },
  {
   "cell_type": "code",
   "execution_count": 16,
   "metadata": {},
   "outputs": [],
   "source": [
    "def cleanUp(dir_path1, dir_path2):\n",
    "    target_set = set(os.listdir(dir_path1))\n",
    "    for img_name in os.listdir(dir_path2):\n",
    "        if img_name in target_set:\n",
    "            continue\n",
    "        else:\n",
    "            os.remove(os.path.join(dir_path2, img_name))"
   ]
  },
  {
   "cell_type": "code",
   "execution_count": 20,
   "metadata": {},
   "outputs": [],
   "source": [
    "SPLIT = 'val'\n",
    "DATASET_DIR_MAP = f'dataset/sgdm-googlemap-nolabel-1814/{SPLIT}/map'\n",
    "DATASET_DIR_SAT = f'dataset/sgdm-googlemap-nolabel-1814/{SPLIT}/rs'\n",
    "LIST_OUTPUT_DIR = 'list/'\n",
    "IMAGE_OUTPUT_DIR = 'dataset/sgdm-exec'\n",
    "TARGET_ZOOM_MIN = 14  # 你可以根据需要修改这个值"
   ]
  },
  {
   "cell_type": "code",
   "execution_count": 21,
   "metadata": {},
   "outputs": [
    {
     "name": "stdout",
     "output_type": "stream",
     "text": [
      "map: 1473\n"
     ]
    }
   ],
   "source": [
    "if not os.path.exists(IMAGE_OUTPUT_DIR):\n",
    "    os.makedirs(IMAGE_OUTPUT_DIR)\n",
    "\n",
    "list_filenames_map = os.listdir(DATASET_DIR_MAP)\n",
    "#list_filenames_sat = os.listdir(DATASET_DIR_SAT)\n",
    "\n",
    "print(\"map:\",len(list_filenames_map))\n",
    "#print(\"sat:\",len(list_filenames_sat))"
   ]
  },
  {
   "cell_type": "code",
   "execution_count": 22,
   "metadata": {},
   "outputs": [
    {
     "data": {
      "application/vnd.jupyter.widget-view+json": {
       "model_id": "8dfc41d8ee044c8d858e723077daab20",
       "version_major": 2,
       "version_minor": 0
      },
      "text/plain": [
       "HBox(children=(FloatProgress(value=0.0, max=1473.0), HTML(value='')))"
      ]
     },
     "metadata": {},
     "output_type": "display_data"
    },
    {
     "name": "stdout",
     "output_type": "stream",
     "text": [
      "\n"
     ]
    }
   ],
   "source": [
    "for filename in tqdm(list_filenames_map):\n",
    "    # 检查文件是否为 PNG 图像\n",
    "    if filename.endswith('.png'):\n",
    "        # 读取图像\n",
    "        img = Image.open(os.path.join(DATASET_DIR_MAP, filename))\n",
    "        \n",
    "        # 检查图像是否为 512 大小\n",
    "        if img.size == (512, 512):\n",
    "            # 转换图像大小为 256\n",
    "            resized_img = img.resize((256, 256))\n",
    "            \n",
    "            # 保存转换后的图像\n",
    "            resized_img.save(os.path.join(IMAGE_OUTPUT_DIR, filename))"
   ]
  },
  {
   "cell_type": "code",
   "execution_count": null,
   "metadata": {},
   "outputs": [],
   "source": [
    "df_filenames_map = pd.DataFrame(list_filenames_map, columns=['filename'])\n",
    "df_filenames_sat = pd.DataFrame(list_filenames_sat, columns=['filename'])\n",
    "\n",
    "df = df_filenames_map.merge(df_filenames_sat, on='filename', how='outer', indicator=True)\n",
    "\n",
    "# 找出只在df_filenames_map中存在的行\n",
    "df_diff_map = df[df['_merge'] == 'left_only']\n",
    "# 找出只在df_filenames_sat中存在的行\n",
    "df_diff_sat = df[df['_merge'] == 'right_only']\n",
    "\n",
    "print(df_diff_map[['filename']].shape)\n",
    "print(df_diff_sat[['filename']].shape)\n",
    "\n",
    "df_diff_map = df_diff_map[['filename']]\n",
    "df_diff_sat = df_diff_sat[['filename']]"
   ]
  },
  {
   "cell_type": "code",
   "execution_count": null,
   "metadata": {},
   "outputs": [],
   "source": [
    "df_diff_sat.to_csv(os.path.join(LIST_OUTPUT_DIR, f'{SPLIT}_file_names_sats_diff.csv'), index=False)"
   ]
  },
  {
   "cell_type": "code",
   "execution_count": null,
   "metadata": {},
   "outputs": [],
   "source": [
    "# 找出两个DataFrame的交集\n",
    "df_intersection = df_filenames_map.merge(df_filenames_sat, on='filename', how='inner')\n",
    "df_intersection.shape\n"
   ]
  },
  {
   "cell_type": "code",
   "execution_count": null,
   "metadata": {},
   "outputs": [],
   "source": [
    "# 将交集保存为CSV文件\n",
    "df_intersection.to_csv('intersection_dataframe.csv', index=False)"
   ]
  },
  {
   "cell_type": "code",
   "execution_count": null,
   "metadata": {},
   "outputs": [],
   "source": [
    "\n",
    "# 遍历df_diff_map中的文件名，删除对应的文件\n",
    "for index, row in tqdm(df_diff_map.iterrows(), total=df_diff_map.shape[0], ncols=80, desc='map'):\n",
    "    filename = row['filename']\n",
    "    file_path = os.path.join(DATASET_DIR_MAP, filename)\n",
    "    if os.path.isfile(file_path):\n",
    "        os.remove(file_path)\n",
    "    else:\n",
    "        tqdm.write(f'error:{filename}')\n",
    "\n",
    "# 遍历df_diff_sat中的文件名，删除对应的文件\n",
    "for index, row in tqdm(df_diff_sat.iterrows(), total=df_diff_sat.shape[0], ncols=80, desc='sat'):\n",
    "    filename = row['filename']\n",
    "    file_path = os.path.join(DATASET_DIR_SAT, filename)\n",
    "    if os.path.isfile(file_path):\n",
    "        os.remove(file_path)\n",
    "    else:\n",
    "        tqdm.write(f'error:{filename}')\n"
   ]
  },
  {
   "cell_type": "code",
   "execution_count": null,
   "metadata": {},
   "outputs": [],
   "source": [
    "# 读取 CSV 文件\n",
    "df_from_csv = pd.read_csv('list/train_file_names_1814_seq.csv')\n",
    "\n",
    "# 找出两个 DataFrame 的交集\n",
    "df_merge = df_intersection.merge(df_from_csv, on='filename', how='outer', indicator=True)\n",
    "\n",
    "# 找出两个 DataFrame 的差集\n",
    "df_difference = df_merge[df_merge['_merge'] != 'both']\n",
    "df_difference = df_difference[['filename']]\n",
    "\n",
    "df_difference.shape"
   ]
  },
  {
   "cell_type": "code",
   "execution_count": null,
   "metadata": {},
   "outputs": [],
   "source": [
    "df_difference.to_csv('list/intersection_dataframe.csv', index=False)"
   ]
  }
 ],
 "metadata": {
  "kernelspec": {
   "display_name": "Python 3 (ipykernel)",
   "language": "python",
   "name": "python3"
  },
  "language_info": {
   "codemirror_mode": {
    "name": "ipython",
    "version": 3
   },
   "file_extension": ".py",
   "mimetype": "text/x-python",
   "name": "python",
   "nbconvert_exporter": "python",
   "pygments_lexer": "ipython3",
   "version": "3.8.3"
  }
 },
 "nbformat": 4,
 "nbformat_minor": 4
}
