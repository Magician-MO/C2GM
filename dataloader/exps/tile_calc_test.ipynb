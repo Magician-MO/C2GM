{
 "cells": [
  {
   "cell_type": "code",
   "execution_count": 2,
   "metadata": {},
   "outputs": [],
   "source": [
    "import math\n",
    "\n",
    "#这种转成正常的wgs84的经纬度坐标\n",
    "def XYZToLonLat_WGS84(x,y,z):\n",
    "    n = 2**z*1.0\n",
    "    lon = x / n * 360.0 - 180.0 #经度\n",
    "    lat = 180 - y / n * 360.0\n",
    "    return lon,lat\n",
    "\n",
    "#这种转成谷歌地图上的经纬度坐标\n",
    "def XYZToLonLat_WEB(x,y,z):\n",
    "    n = 2**z*1.0\n",
    "    lon = x / n * 360.0 - 180.0 #经度\n",
    "    lat = math.atan(math.sinh(math.pi * (1 - 2.0 * y / n)))\n",
    "    lat = math.degrees(lat) #纬度\n",
    "    return lon,lat"
   ]
  },
  {
   "cell_type": "code",
   "execution_count": 3,
   "metadata": {},
   "outputs": [
    {
     "name": "stdout",
     "output_type": "stream",
     "text": [
      "WGS Longitude: -4.4384765625, Latitude: 67.74169921875\n",
      "WEB Longitude: -4.4384765625, Latitude: 55.9122729300636\n",
      "DEG Longitude: -4.4384765625, Latitude: 55.9122729300636\n"
     ]
    }
   ],
   "source": [
    "from Tile import num2deg\n",
    "\n",
    "# 解析瓦片标识符\n",
    "tile = \"14_7990_5109\"\n",
    "z, x, y = map(int, tile.split('_'))\n",
    "\n",
    "\n",
    "# 转换为经纬度\n",
    "lon, lat = XYZToLonLat_WGS84(x, y, z)\n",
    "print(f\"WGS Longitude: {lon}, Latitude: {lat}\")\n",
    "lon, lat = XYZToLonLat_WEB(x, y, z)\n",
    "print(f\"WEB Longitude: {lon}, Latitude: {lat}\")\n",
    "lat, lon = num2deg(x, y, z)\n",
    "print(f\"DEG Longitude: {lon}, Latitude: {lat}\")\n"
   ]
  },
  {
   "cell_type": "code",
   "execution_count": 4,
   "metadata": {},
   "outputs": [],
   "source": [
    "import math\n",
    "\n",
    "# 地球半径，单位为米\n",
    "EARTH_RADIUS = 6378137\n",
    "\n",
    "def lat_lon_to_mercator(lat, lon):\n",
    "    \"\"\"从经纬度转换到墨卡托坐标\"\"\"\n",
    "    x = EARTH_RADIUS * math.radians(lon)\n",
    "    y = EARTH_RADIUS * math.log(math.tan((math.pi / 4) + (math.radians(lat) / 2)))\n",
    "    return (x, y)\n",
    "\n",
    "def mercator_to_lat_lon(x, y):\n",
    "    \"\"\"从墨卡托坐标转换到经纬度\"\"\"\n",
    "    lon = x / EARTH_RADIUS\n",
    "    lat_rad = (math.atan(math.exp(y / EARTH_RADIUS)) - (math.pi / 2))\n",
    "    lat = math.degrees(lat_rad)\n",
    "    return (lat, lon)"
   ]
  },
  {
   "cell_type": "code",
   "execution_count": 7,
   "metadata": {},
   "outputs": [
    {
     "data": {
      "text/plain": [
       "(7536079.492692096, -555238.5734635203)"
      ]
     },
     "execution_count": 7,
     "metadata": {},
     "output_type": "execute_result"
    }
   ],
   "source": [
    "lat_lon_to_mercator(lat, lon)\n",
    "\n",
    "-555238.5734635203, 7536079.492692096\n",
    "7536079.492692096, -555238.5734635203\n",
    "\n",
    "76579123.763\n",
    "66310398.990\n",
    "10520386.497"
   ]
  },
  {
   "cell_type": "code",
   "execution_count": 6,
   "metadata": {},
   "outputs": [
    {
     "name": "stdout",
     "output_type": "stream",
     "text": [
      "Latitude, Longitude: 51.53608560178474, -0.02197265625\n",
      "Mercator X, Y: -2445.98490512564, 6716674.549475004\n"
     ]
    }
   ],
   "source": [
    "tile = '14_8191_5446'\n",
    "z, x, y = map(int, tile.split('_'))\n",
    "lat, lon = num2deg(x, y, z)\n",
    "print(f\"Latitude, Longitude: {lat}, {lon}\")\n",
    "x, y = lat_lon_to_mercator(lat, lon)\n",
    "print(f\"Mercator X, Y: {x}, {y}\")"
   ]
  }
 ],
 "metadata": {
  "kernelspec": {
   "display_name": "base",
   "language": "python",
   "name": "python3"
  },
  "language_info": {
   "codemirror_mode": {
    "name": "ipython",
    "version": 3
   },
   "file_extension": ".py",
   "mimetype": "text/x-python",
   "name": "python",
   "nbconvert_exporter": "python",
   "pygments_lexer": "ipython3",
   "version": "3.8.19"
  }
 },
 "nbformat": 4,
 "nbformat_minor": 2
}
