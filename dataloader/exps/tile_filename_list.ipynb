{
 "cells": [
  {
   "cell_type": "code",
   "execution_count": 10,
   "metadata": {},
   "outputs": [],
   "source": [
    "import pandas as pd\n",
    "import os\n",
    "from tqdm.notebook import tqdm"
   ]
  },
  {
   "cell_type": "code",
   "execution_count": 11,
   "metadata": {},
   "outputs": [
    {
     "data": {
      "application/vnd.jupyter.widget-view+json": {
       "model_id": "5aa16f5a92f44327914222d471dcd083",
       "version_major": 2,
       "version_minor": 0
      },
      "text/plain": [
       "  0%|          | 0/130701 [00:00<?, ?it/s]"
      ]
     },
     "metadata": {},
     "output_type": "display_data"
    }
   ],
   "source": [
    "# SPLIT = 'train/'\n",
    "SPLIT = ''\n",
    "DATASET_DIR = f'../../data/datasets/TMGN_1814/{SPLIT}map_256'\n",
    "OUTPUT_DIR = 'data/list/'\n",
    "\n",
    "df_tilenames = pd.DataFrame(columns=['tilename'])\n",
    "\n",
    "for filename in tqdm(os.listdir(DATASET_DIR)):\n",
    "    if filename.endswith('.png'):\n",
    "        tilename = filename.split('.')[0]\n",
    "        df_tilenames.loc[len(df_tilenames)] = [tilename]\n",
    "\n",
    "df_tilenames.to_csv(os.path.join(OUTPUT_DIR, f'{SPLIT}_tilenames_1815.csv'), index=False)"
   ]
  },
  {
   "cell_type": "code",
   "execution_count": null,
   "metadata": {},
   "outputs": [],
   "source": [
    "from tile_name_calc import get_filename_parent_tiles, get_filename_parent_tiles_scale"
   ]
  },
  {
   "cell_type": "code",
   "execution_count": null,
   "metadata": {},
   "outputs": [],
   "source": [
    "SPLIT = 'val/'\n",
    "DATASET_DIR = f'../../data/datasets/CMRSD/{SPLIT}ref_256'\n",
    "OUTPUT_DIR = 'data/list/'\n",
    "TARGET_ZOOM_MIN = 14  # 你可以根据需要修改这个值\n",
    "\n",
    "df_filenames = pd.DataFrame(columns=['filename'])\n",
    "df_filenames_parent = pd.DataFrame(columns=['filename', 'parent_filename', 'position'])\n",
    "\n",
    "for filename in os.listdir(DATASET_DIR):\n",
    "    if filename.endswith('.png'):\n",
    "        df_filenames.loc[len(df_filenames)] = [filename]\n",
    "        parent_filenames, positions = get_filename_parent_tiles(filename, target_zoom=TARGET_ZOOM_MIN)\n",
    "        current_filename = filename\n",
    "        for parent_filename, position in zip(parent_filenames, positions):\n",
    "            df_filenames_parent.loc[len(df_filenames_parent)] = [current_filename, parent_filename, position]\n",
    "            current_filename = parent_filename\n",
    "\n",
    "df_filenames.to_csv(os.path.join(OUTPUT_DIR, f'{SPLIT}_file_names.csv'), index=False)\n",
    "df_filenames_parent.to_csv(os.path.join(OUTPUT_DIR, f'{SPLIT}_file_data.csv'), index=False)\n",
    "\n",
    "df_filenames_unique = pd.DataFrame(df_filenames_parent['parent_filename'].unique(), columns=['filename'])\n",
    "df_filenames_unique.to_csv(os.path.join(OUTPUT_DIR, f'{SPLIT}_file_unique.csv'), index=False)"
   ]
  },
  {
   "cell_type": "code",
   "execution_count": 17,
   "metadata": {},
   "outputs": [],
   "source": [
    "SPLIT = 'train'\n",
    "DATASET_DIR = f'../../data/datasets/CMRSD/{SPLIT}/ref_256'\n",
    "OUTPUT_DIR = 'data/list/'\n",
    "TARGET_ZOOM_MIN = 14  # 你可以根据需要修改这个值\n",
    "\n",
    "df_filenames = pd.DataFrame(columns=['filename'])\n",
    "df_filenames_parent = pd.DataFrame(columns=['filename', 'parent_filename', 'position'])\n",
    "\n",
    "for filename in os.listdir(DATASET_DIR):\n",
    "    if filename.endswith('.png'):\n",
    "        df_filenames.loc[len(df_filenames)] = [filename]\n",
    "        parent_filenames, positions = get_filename_parent_tiles(filename, target_zoom=TARGET_ZOOM_MIN)\n",
    "        current_filename = filename\n",
    "        for parent_filename, position in zip(parent_filenames, positions):\n",
    "            df_filenames_parent.loc[len(df_filenames_parent)] = [current_filename, parent_filename, position]\n",
    "            current_filename = parent_filename\n",
    "\n",
    "df_filenames.to_csv(os.path.join(OUTPUT_DIR, f'{SPLIT}_file_names.csv'), index=False)\n",
    "df_filenames_parent.to_csv(os.path.join(OUTPUT_DIR, f'{SPLIT}_file_data.csv'), index=False)\n",
    "\n",
    "df_filenames_unique = pd.DataFrame(df_filenames_parent['parent_filename'].unique(), columns=['filename'])\n",
    "df_filenames_unique.to_csv(os.path.join(OUTPUT_DIR, f'{SPLIT}_file_unique.csv'), index=False)"
   ]
  },
  {
   "cell_type": "code",
   "execution_count": 4,
   "metadata": {},
   "outputs": [],
   "source": [
    "SPLIT = 'val'\n",
    "DATASET_DIR = f'../../data/datasets/TMGN_1814/{SPLIT}/rs_256'\n",
    "OUTPUT_DIR = 'data/list/'\n",
    "SCALE = 4  # 缩放尺度 SCALE = 2^(zoom_source - zoom_target)\n",
    "\n",
    "df_filenames = pd.DataFrame(columns=['filename'])\n",
    "df_filenames_parent = pd.DataFrame(columns=['filename', 'parent_filename', 'position'])\n",
    "\n",
    "for filename in os.listdir(DATASET_DIR):\n",
    "    if filename.endswith('.png'):\n",
    "        df_filenames.loc[len(df_filenames)] = [filename]\n",
    "        parent_filenames, positions = get_filename_parent_tiles_scale(filename, SCALE)\n",
    "        current_filename = filename\n",
    "        for parent_filename, position in zip(parent_filenames, positions):\n",
    "            df_filenames_parent.loc[len(df_filenames_parent)] = [current_filename, parent_filename, position]\n",
    "            current_filename = parent_filename\n",
    "\n",
    "df_filenames.to_csv(os.path.join(OUTPUT_DIR, f'{SPLIT}_file_names_scale.csv'), index=False)\n",
    "df_filenames_parent.to_csv(os.path.join(OUTPUT_DIR, f'{SPLIT}_file_data_scale-{SCALE}-256.csv'), index=False)"
   ]
  }
 ],
 "metadata": {
  "kernelspec": {
   "display_name": "base",
   "language": "python",
   "name": "python3"
  },
  "language_info": {
   "codemirror_mode": {
    "name": "ipython",
    "version": 3
   },
   "file_extension": ".py",
   "mimetype": "text/x-python",
   "name": "python",
   "nbconvert_exporter": "python",
   "pygments_lexer": "ipython3",
   "version": "3.10.13"
  }
 },
 "nbformat": 4,
 "nbformat_minor": 2
}
